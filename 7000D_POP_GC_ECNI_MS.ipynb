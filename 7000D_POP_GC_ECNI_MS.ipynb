{
 "cells": [
  {
   "cell_type": "markdown",
   "id": "f507f12b",
   "metadata": {},
   "source": [
    "<h1><center>Your title </center></h1>"
   ]
  },
  {
   "cell_type": "code",
   "execution_count": null,
   "id": "19b454b0",
   "metadata": {},
   "outputs": [],
   "source": [
    "from datetime import date\n",
    "print(f'This notebook was prepared on {date.today()}.')"
   ]
  },
  {
   "cell_type": "code",
   "execution_count": null,
   "id": "4bcd5f84",
   "metadata": {},
   "outputs": [],
   "source": [
    "%reset -sf\n",
    "import pandas as pd\n",
    "import numpy as np\n",
    "import chart_studio.plotly as py\n",
    "import plotly.express as px\n",
    "import plotly.io as pio\n",
    "pio.templates.default = \"none\"\n",
    "pd.set_option('display.max_columns', None) #display all dataframe columns"
   ]
  },
  {
   "cell_type": "code",
   "execution_count": null,
   "id": "758e41c3",
   "metadata": {},
   "outputs": [],
   "source": [
    "print(\"\"\"Please input file location here: \n",
    "- Right click csv file\n",
    "- Select 'Copy as path'\n",
    "- After pasting, remove double quotation marks at both ends\n",
    "- Press Enter\"\"\")\n",
    "file_location= input()"
   ]
  },
  {
   "cell_type": "code",
   "execution_count": null,
   "id": "5a949d7c",
   "metadata": {
    "scrolled": false
   },
   "outputs": [],
   "source": [
    "###################################################################\n",
    "########## PART I: Read in file and tidy up table #################\n",
    "###################################################################\n",
    "main_df= pd.read_csv(file_location)\n",
    "main_df= (main_df\n",
    "          .query(\"`Unnamed: 2`== 'Sample'\") #selecting samples only\n",
    "          .drop(['Unnamed: 1','Unnamed: 2','Unnamed: 3'] , axis=1) #dropping columns not needed\n",
    "          .set_index('Sample'))\n",
    "\n",
    "#separate dataframe into three different ones: \n",
    "concentration_native = main_df.iloc[:,0::3]\n",
    "area_native = main_df.iloc[:,1::3]\n",
    "area_IS = main_df.iloc[:,2::3]\n",
    "\n",
    "concentration_native.columns= (concentration_native.columns\n",
    "                               .str.replace(' Results', '')\n",
    "                               .str.replace('-', '_'))\n",
    "\n",
    "#rename compound names for area_native df:\n",
    "area_native.columns = concentration_native.columns\n",
    "\n",
    "#Transpose dataframes\n",
    "area_native = area_native.T.astype('float64')\n",
    "concentration_native = concentration_native.T.astype('float64')\n",
    "area_IS = area_IS.T.astype('float64')\n",
    "\n",
    "#Remove duplicate IS area values:\n",
    "unique= [i for idx,i in enumerate(area_IS.index) if len(area_IS.index.str.split('.')[idx]) == 1]\n",
    "area_IS= area_IS[area_IS.index.isin(unique)]\n",
    "area_IS.index= area_IS.index.str.replace(\"Results\", '', regex= True)\n",
    "\n",
    "#user input needed: create a csv where we can input the amounts of AMAP extracted\n",
    "(pd.Series(area_IS.index)\n",
    " .to_csv('IS_table_empty.csv', index = False))\n",
    "\n",
    "print(f'Please check your folder at {file_location} for a file named: IS_table_empty.csv.')\n",
    "print(f'Input the amount of internal standards in the samples [in pg].')"
   ]
  },
  {
   "cell_type": "code",
   "execution_count": null,
   "id": "14dda9f3",
   "metadata": {},
   "outputs": [],
   "source": [
    "#Read in the file as pd.series:\n",
    "IS_table= pd.read_csv('IS_table_empty.csv', index_col = 0, squeeze= True, names= None)"
   ]
  },
  {
   "cell_type": "code",
   "execution_count": null,
   "id": "77d161b3",
   "metadata": {},
   "outputs": [],
   "source": [
    "###################################################################\n",
    "############# PART II: Calculate response factors #################\n",
    "###################################################################\n",
    "\n",
    "area_CB_207_in_ISRS= area_native[area_native.columns[area_native.columns.str.contains('IS_RS')]].loc['CB_207',:] #extracting peak CB_207 peak areas\n",
    "area_IS_in_ISRS= area_IS[area_IS.columns[area_IS.columns.str.contains('IS_RS')]]\n",
    "#IS_table= pd.Series([1250,12500,1000,2500,2500], index= area_IS.index) #Set concentration values for internal standards\n",
    "RRF= ((area_IS_in_ISRS * 1000) /  area_CB_207_in_ISRS).div(IS_table, axis= 0) #https://stackoverflow.com/questions/53217607/how-do-i-operate-on-a-dataframe-with-a-series-for-every-column\n",
    "#AVG_RRF=  RRF.T.apply(lambda x: x.mean())\n",
    "Statistics_RRF= RRF.T.describe()\n",
    "\n",
    "fig = px.bar(data_frame=Statistics_RRF.T, y= 'mean', color=Statistics_RRF.T.index,\n",
    "       error_y= Statistics_RRF.T['std'])\n",
    "\n",
    "fig.update_layout(\n",
    "    #height=400,\n",
    "    legend_title_text='Internal standards',\n",
    "    title=dict(\n",
    "        text='<b>Calculated relative response factors <br><sup>Error bars represent standard deviation</sup></b>',\n",
    "        x=0.5,\n",
    "        y=0.9,\n",
    "        font=dict(\n",
    "            family=\"Arial\",\n",
    "            size=20,\n",
    "            color='#000000'\n",
    "        )\n",
    "    ),\n",
    "    xaxis_title='',\n",
    "    yaxis_title='<b>RRF</b>',\n",
    "    font=dict(\n",
    "        family=\"Arial\",\n",
    "        size=12,\n",
    "        color='#000000'\n",
    "    )\n",
    ")\n",
    "fig.update_layout(\n",
    "    margin=dict(l=100, r=100, t=100, b=100)\n",
    ")\n",
    "fig.write_html(\"RRF.html\")\n",
    "fig"
   ]
  },
  {
   "cell_type": "code",
   "execution_count": null,
   "id": "5235a92d",
   "metadata": {
    "scrolled": false
   },
   "outputs": [],
   "source": [
    "###################################################################\n",
    "# PART IIIa: Calculate the amount of internal standard extracted ##\n",
    "###################################################################\n",
    "#extract CB-207 areas from all samples except IS_RS\n",
    "area_CB_207_without_ISRS= area_native[area_native.columns[~area_native.columns.str.contains('IS_RS')]].loc['CB_207',:] \n",
    "#extract IS areas from all samples except IS_RS\n",
    "area_IS_without_ISRS= area_IS[area_IS.columns[~area_IS.columns.str.contains('IS_RS')]]\n",
    "#calculate amount of internal standard extracted\n",
    "amount_IS_extracted= (area_IS_without_ISRS * 1000 / area_CB_207_without_ISRS).div(Statistics_RRF.T['mean'], axis= 0)\n",
    "\n",
    "###################################################################\n",
    "########## PART IIIb: Calculate extraction efficiencies ###########\n",
    "###################################################################\n",
    "\n",
    "extraction_efficiency= amount_IS_extracted.div(IS_table, axis= 0) * 100\n",
    "Statistics_ExtractionEfficiency= extraction_efficiency.T.describe()\n",
    "\n",
    "#reshape table so that it can be plotted nicely\n",
    "extraction_efficiency_plt= pd.melt(frame= extraction_efficiency.T, ignore_index= False, \n",
    "        var_name= 'ISTD', value_name= 'Extraction_efficiency')\n",
    "\n",
    "fig = px.box(extraction_efficiency_plt, x= 'ISTD', y= 'Extraction_efficiency', color= 'ISTD', points= 'all',\n",
    "            hover_name=extraction_efficiency_plt.index, range_y= [0, extraction_efficiency_plt.Extraction_efficiency.max() + 10])\n",
    "fig.update_layout(\n",
    "    #height=400,\n",
    "    legend_title_text='Internal standards',\n",
    "    title=dict(\n",
    "        text='<b>Calculated extraction efficiencies</b>',\n",
    "        x=0.5,\n",
    "        y=0.9,\n",
    "        font=dict(\n",
    "            family=\"Arial\",\n",
    "            size=20,\n",
    "            color='#000000'\n",
    "        )\n",
    "    ),\n",
    "    xaxis_title='',\n",
    "    yaxis_title='<b>EE %</b>',\n",
    "    font=dict(\n",
    "        family=\"Arial\",\n",
    "        size=12,\n",
    "        color='#000000'\n",
    "    )\n",
    ")\n",
    "fig.update_layout(\n",
    "    margin=dict(l=100, r=100, t=100, b=100)\n",
    ")\n",
    "fig.write_html(\"EE.html\")\n",
    "fig"
   ]
  },
  {
   "cell_type": "code",
   "execution_count": null,
   "id": "70b6691f",
   "metadata": {},
   "outputs": [],
   "source": [
    "#################################################################################\n",
    "##### PART IV: Calculate correction factors based on AMAP concentrations ########\n",
    "#################################################################################\n",
    "\n",
    "#extract native concentration values in blanks and AMAPs\n",
    "concentration_native_in_blanks= concentration_native[concentration_native.columns[concentration_native.columns.str.contains('Blank|blank', regex= True)]]\n",
    "concentration_native_in_AMAP= concentration_native[concentration_native.columns[concentration_native.columns.str.contains('AMAP|amap', regex= True)]]\n",
    "\n",
    "#calculate the native concentration means in the blanks \n",
    "AVG_concentration_native_in_blanks= concentration_native_in_blanks.mean(axis= 1)\n",
    "\n",
    "#user input needed: create a csv where we can input the amounts of AMAP extracted\n",
    "(pd.Series(concentration_native_in_AMAP.columns)\n",
    " .to_csv('AMAP_SampleVolume_empty.csv', index = False))\n",
    "\n",
    "print(f'Please check your folder at {file_location} for a file named: AMAP_SampleVolume_empty.csv.')\n",
    "print(f'Input the amount of AMAP samples extracted in ml.')"
   ]
  },
  {
   "cell_type": "code",
   "execution_count": null,
   "id": "5dc96dad",
   "metadata": {
    "scrolled": true
   },
   "outputs": [],
   "source": [
    "print(\"\"\"Please input file location here: \n",
    "- Right click csv file\n",
    "- Select 'Copy as path'\n",
    "- After pasting, remove double quotation marks at both ends\n",
    "- Press Enter\"\"\")\n",
    "AMAP_SampleVolume= input()"
   ]
  },
  {
   "cell_type": "code",
   "execution_count": null,
   "id": "c19d2c5b",
   "metadata": {},
   "outputs": [],
   "source": [
    "#Read in the file as pd.series:\n",
    "AMAP_SampleVolume= pd.read_csv(AMAP_SampleVolume, index_col = 0, squeeze= True)"
   ]
  },
  {
   "cell_type": "code",
   "execution_count": null,
   "id": "a4beb89d",
   "metadata": {},
   "outputs": [],
   "source": [
    "#calculate the native concentrations observed in the AMAP samples in ng/ml\n",
    "AMAP_concentration_ngml= (concentration_native_in_AMAP.sub(AVG_concentration_native_in_blanks, axis= 0)\n",
    ".div(AMAP_SampleVolume, axis= 1)) / 1000\n",
    "\n",
    "#calculate the average concentrations of native analytes in the AMAPs\n",
    "AVG_AMAP_concentration_ngml= AMAP_concentration_ngml.mean(axis= 1)\n",
    "\n",
    "#user input needed: create a csv where we can input the concentrations of native analytes in the AMAPs\n",
    "(pd.Series(AVG_AMAP_concentration_ngml.index)\n",
    " .to_csv('AMAP_concentration_empty.csv', index = False))\n",
    "\n",
    "print(f'Please check your folder at {file_location} for a file named: AMAP_concentration_empty.csv.')\n",
    "print(f'Input the concentration of analytes present in the reference AMAP sample in ng/ml.')"
   ]
  },
  {
   "cell_type": "code",
   "execution_count": null,
   "id": "fefb7feb",
   "metadata": {},
   "outputs": [],
   "source": [
    "print(\"\"\"Please input file location here: \n",
    "- Right click csv file\n",
    "- Select 'Copy as path'\n",
    "- After pasting, remove double quotation marks at both ends\n",
    "- Press Enter\"\"\")\n",
    "AMAP_theroretical_concentration= input()"
   ]
  },
  {
   "cell_type": "code",
   "execution_count": null,
   "id": "54ecb6f2",
   "metadata": {},
   "outputs": [],
   "source": [
    "#Read in the file as pd.series:\n",
    "AMAP_theroretical_concentration= pd.read_csv(AMAP_theroretical_concentration, index_col = 0, squeeze= True)"
   ]
  },
  {
   "cell_type": "code",
   "execution_count": null,
   "id": "3e42a6e7",
   "metadata": {},
   "outputs": [],
   "source": [
    "#get the correction factors by dividing the theoretical with the measured AVG, replace values with 1\n",
    "#where we get a 0 or negative value\n",
    "correction_factors= pd.Series(np.where(AMAP_theroretical_concentration / AVG_AMAP_concentration_ngml > 0, \n",
    "                                       AMAP_theroretical_concentration / AVG_AMAP_concentration_ngml, 1), \n",
    "                              index= AMAP_theroretical_concentration.index)\n",
    "\n",
    "fig = px.bar(data_frame= correction_factors.sort_values(), y= correction_factors.sort_values().values)\n",
    "fig.update_layout(\n",
    "    #height=400,\n",
    "    legend_title_text='Internal standards',\n",
    "    title=dict(\n",
    "        text='<b>Calculated correction factors</b>',\n",
    "        x=0.5,\n",
    "        y=1,\n",
    "        font=dict(\n",
    "            family=\"Arial\",\n",
    "            size=20,\n",
    "            color='#000000'\n",
    "        )\n",
    "    ),\n",
    "    xaxis_title='',\n",
    "    yaxis_title='<b>Correction factor (assigned value/measured) </b>',\n",
    "    font=dict(\n",
    "        family=\"Arial\",\n",
    "        size=12,\n",
    "        color='#000000'\n",
    "    )\n",
    ")\n",
    "fig.add_hline(y=1, line_width=5, line_dash=\"dash\", line_color=\"red\")\n",
    "fig.write_html(\"correction_factor.html\")\n",
    "fig"
   ]
  },
  {
   "cell_type": "code",
   "execution_count": null,
   "id": "a2e1a916",
   "metadata": {},
   "outputs": [],
   "source": [
    "#################################################################################\n",
    "########### PART V: Calculate native concentrations in samples ##################\n",
    "#################################################################################\n",
    "sample_concentrations= (concentration_native[concentration_native.\n",
    "                                        columns[~concentration_native.columns.\n",
    "                                                str.contains('Blank|blank|IS_RS|IS-RS|ISRS|AMAP', regex= True)]])\n",
    "\n",
    "#user input needed: create a csv where we can input the amounts of sample extracted\n",
    "(pd.Series(sample_concentrations.columns)\n",
    " .to_csv('ExtractedSampleVolume_empty.csv', index = False))\n",
    "\n",
    "print(f'Please check your folder at {file_location} for a file named: ExtractedSampleVolume_empty.csv.')\n",
    "print(f'Input the amounts of samples extracted in ml.')"
   ]
  },
  {
   "cell_type": "code",
   "execution_count": null,
   "id": "d8430112",
   "metadata": {},
   "outputs": [],
   "source": [
    "print(\"\"\"Please input file location here: \n",
    "- Right click csv file\n",
    "- Select 'Copy as path'\n",
    "- After pasting, remove double quotation marks at both ends\n",
    "- Press Enter\"\"\")\n",
    "ExtractedSampleVolume= input()"
   ]
  },
  {
   "cell_type": "code",
   "execution_count": null,
   "id": "caa04396",
   "metadata": {},
   "outputs": [],
   "source": [
    "#Read in the file as pd.series:\n",
    "ExtractedSampleVolume= pd.read_csv(ExtractedSampleVolume, index_col = 0, squeeze= True)"
   ]
  },
  {
   "cell_type": "code",
   "execution_count": null,
   "id": "22dc03a6",
   "metadata": {},
   "outputs": [],
   "source": [
    "#Calculate the peak areas in the samples\n",
    "result_sample_concentration= (sample_concentrations\n",
    "                          .sub(AVG_concentration_native_in_blanks, axis= 0)\n",
    "                          .mul(correction_factors, axis= 0)\n",
    "                          .div(ExtractedSampleVolume, axis= 1))\n",
    "\n",
    "#replace negative values with zero\n",
    "result_sample_concentration= pd.DataFrame(np.where(result_sample_concentration > 0, result_sample_concentration, 0), \n",
    "                                      index= result_sample_concentration.index, columns= result_sample_concentration.columns)\n",
    "\n",
    "#reshape table so that it can be plotted nicely\n",
    "result_sample_concentration_melt= pd.melt(frame= result_sample_concentration, ignore_index= False, \n",
    "                                      var_name= 'Sample', value_name= 'Peak_area')\n",
    "\n",
    "fig = px.box(data_frame= result_sample_concentration_melt, x= 'Sample', y= 'Peak_area', color= 'Sample',\n",
    "            hover_name= result_sample_concentration_melt.index)\n",
    "fig.update_layout(\n",
    "    #height=400,\n",
    "    legend_title_text='Sample Names',\n",
    "    title=dict(\n",
    "        text='<b>Calculated concentrations</b>',\n",
    "        x=0.5,\n",
    "        y=1,\n",
    "        font=dict(\n",
    "            family=\"Arial\",\n",
    "            size=20,\n",
    "            color='#000000'\n",
    "        )\n",
    "    ),\n",
    "    xaxis_title='',\n",
    "    yaxis_title='<b>Calculated concentrations [pg/ml] </b>',\n",
    "    font=dict(\n",
    "        family=\"Arial\",\n",
    "        size=12,\n",
    "        color='#000000'\n",
    "    )\n",
    ")\n",
    "fig.write_html(\"Concentration_Samples.html\")\n",
    "fig"
   ]
  },
  {
   "cell_type": "code",
   "execution_count": null,
   "id": "55805e05",
   "metadata": {
    "scrolled": false
   },
   "outputs": [],
   "source": [
    "#reshape table so that it can be plotted nicely\n",
    "result_sample_concentration_melt2= pd.melt(frame= result_sample_concentration.T, ignore_index= False, \n",
    "                                       var_name= 'Analyte', value_name= 'Peak_area')\n",
    "\n",
    "\n",
    "fig = px.box(data_frame= result_sample_concentration_melt2, x= 'Analyte', y= 'Peak_area', color= 'Analyte',\n",
    "            hover_name= result_sample_concentration_melt2.index)\n",
    "fig.update_layout(\n",
    "    #height=400,\n",
    "    legend_title_text='Analyte Names',\n",
    "    title=dict(\n",
    "        text='<b>Calculated concentrations</b>',\n",
    "        x=0.5,\n",
    "        y=1,\n",
    "        font=dict(\n",
    "            family=\"Arial\",\n",
    "            size=20,\n",
    "            color='#000000'\n",
    "        )\n",
    "    ),\n",
    "    xaxis_title='',\n",
    "    yaxis_title='<b>Calculated concentrations [pg/ml] </b>',\n",
    "    font=dict(\n",
    "        family=\"Arial\",\n",
    "        size=12,\n",
    "        color='#000000'\n",
    "    )\n",
    ")\n",
    "fig.write_html(\"Concentration_Analytes.html\")\n",
    "fig"
   ]
  },
  {
   "cell_type": "code",
   "execution_count": null,
   "id": "aba0f927",
   "metadata": {},
   "outputs": [],
   "source": [
    "result_sample_concentration.to_csv('result_sample_concentration.csv')"
   ]
  }
 ],
 "metadata": {
  "hide_input": true,
  "kernelspec": {
   "display_name": "Python 3 (ipykernel)",
   "language": "python",
   "name": "python3"
  },
  "language_info": {
   "codemirror_mode": {
    "name": "ipython",
    "version": 3
   },
   "file_extension": ".py",
   "mimetype": "text/x-python",
   "name": "python",
   "nbconvert_exporter": "python",
   "pygments_lexer": "ipython3",
   "version": "3.9.7"
  },
  "toc": {
   "base_numbering": 1,
   "nav_menu": {},
   "number_sections": true,
   "sideBar": true,
   "skip_h1_title": false,
   "title_cell": "Table of Contents",
   "title_sidebar": "Contents",
   "toc_cell": false,
   "toc_position": {
    "height": "calc(100% - 180px)",
    "left": "10px",
    "top": "150px",
    "width": "487px"
   },
   "toc_section_display": true,
   "toc_window_display": true
  },
  "varInspector": {
   "cols": {
    "lenName": 16,
    "lenType": 16,
    "lenVar": 40
   },
   "kernels_config": {
    "python": {
     "delete_cmd_postfix": "",
     "delete_cmd_prefix": "del ",
     "library": "var_list.py",
     "varRefreshCmd": "print(var_dic_list())"
    },
    "r": {
     "delete_cmd_postfix": ") ",
     "delete_cmd_prefix": "rm(",
     "library": "var_list.r",
     "varRefreshCmd": "cat(var_dic_list()) "
    }
   },
   "types_to_exclude": [
    "module",
    "function",
    "builtin_function_or_method",
    "instance",
    "_Feature"
   ],
   "window_display": false
  }
 },
 "nbformat": 4,
 "nbformat_minor": 5
}
